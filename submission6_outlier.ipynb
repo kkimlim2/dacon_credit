{
 "cells": [
  {
   "cell_type": "markdown",
   "id": "million-public",
   "metadata": {},
   "source": [
    "occyp_type을 encoding하는 게 좋은 방법인지 모르겠다. 그냥 drop했을때 성능이 제일 좋아서 일단 drop하기"
   ]
  },
  {
   "cell_type": "code",
   "execution_count": 2,
   "id": "alike-chicago",
   "metadata": {},
   "outputs": [],
   "source": [
    "import warnings\n",
    "warnings.filterwarnings('ignore')\n",
    "import numpy as np\n",
    "import pandas as pd   \n",
    "import matplotlib.pyplot as plt\n",
    "import seaborn as sns\n",
    "import itertools\n",
    "\n",
    "from sklearn.model_selection import train_test_split\n",
    "from sklearn.metrics import accuracy_score, confusion_matrix, log_loss\n",
    "\n",
    "from sklearn.linear_model import LogisticRegression\n",
    "from sklearn.tree import DecisionTreeClassifier\n",
    "\n",
    "from xgboost import XGBClassifier\n",
    "from lightgbm import LGBMClassifier\n",
    "from catboost import CatBoostClassifier\n",
    "from sklearn import svm\n",
    "from sklearn.ensemble import RandomForestClassifier"
   ]
  },
  {
   "cell_type": "code",
   "execution_count": 3,
   "id": "ambient-engine",
   "metadata": {},
   "outputs": [],
   "source": [
    "import os\n",
    "os.chdir('C:/Users/eunai/Documents/컴퓨터공부/dacon/open')"
   ]
  },
  {
   "cell_type": "code",
   "execution_count": 4,
   "id": "solid-delta",
   "metadata": {},
   "outputs": [],
   "source": [
    "train=pd.read_csv('train.csv')\n",
    "test=pd.read_csv('test.csv')\n",
    "submission=pd.read_csv('sample_submission.csv')"
   ]
  },
  {
   "cell_type": "code",
   "execution_count": 5,
   "id": "standing-toyota",
   "metadata": {},
   "outputs": [],
   "source": [
    "data=pd.concat([train, test], axis=0)"
   ]
  },
  {
   "cell_type": "code",
   "execution_count": 6,
   "id": "behind-embassy",
   "metadata": {},
   "outputs": [
    {
     "data": {
      "text/html": [
       "<div>\n",
       "<style scoped>\n",
       "    .dataframe tbody tr th:only-of-type {\n",
       "        vertical-align: middle;\n",
       "    }\n",
       "\n",
       "    .dataframe tbody tr th {\n",
       "        vertical-align: top;\n",
       "    }\n",
       "\n",
       "    .dataframe thead th {\n",
       "        text-align: right;\n",
       "    }\n",
       "</style>\n",
       "<table border=\"1\" class=\"dataframe\">\n",
       "  <thead>\n",
       "    <tr style=\"text-align: right;\">\n",
       "      <th></th>\n",
       "      <th>index</th>\n",
       "      <th>gender</th>\n",
       "      <th>car</th>\n",
       "      <th>reality</th>\n",
       "      <th>child_num</th>\n",
       "      <th>income_total</th>\n",
       "      <th>income_type</th>\n",
       "      <th>edu_type</th>\n",
       "      <th>family_type</th>\n",
       "      <th>house_type</th>\n",
       "      <th>DAYS_BIRTH</th>\n",
       "      <th>DAYS_EMPLOYED</th>\n",
       "      <th>FLAG_MOBIL</th>\n",
       "      <th>work_phone</th>\n",
       "      <th>phone</th>\n",
       "      <th>email</th>\n",
       "      <th>occyp_type</th>\n",
       "      <th>family_size</th>\n",
       "      <th>begin_month</th>\n",
       "      <th>credit</th>\n",
       "    </tr>\n",
       "  </thead>\n",
       "  <tbody>\n",
       "    <tr>\n",
       "      <th>9995</th>\n",
       "      <td>36452</td>\n",
       "      <td>F</td>\n",
       "      <td>Y</td>\n",
       "      <td>Y</td>\n",
       "      <td>0</td>\n",
       "      <td>202500.0</td>\n",
       "      <td>Working</td>\n",
       "      <td>Incomplete higher</td>\n",
       "      <td>Married</td>\n",
       "      <td>House / apartment</td>\n",
       "      <td>-18593</td>\n",
       "      <td>-5434</td>\n",
       "      <td>1</td>\n",
       "      <td>1</td>\n",
       "      <td>1</td>\n",
       "      <td>0</td>\n",
       "      <td>Accountants</td>\n",
       "      <td>2.0</td>\n",
       "      <td>-19.0</td>\n",
       "      <td>NaN</td>\n",
       "    </tr>\n",
       "    <tr>\n",
       "      <th>9996</th>\n",
       "      <td>36453</td>\n",
       "      <td>M</td>\n",
       "      <td>Y</td>\n",
       "      <td>Y</td>\n",
       "      <td>0</td>\n",
       "      <td>202500.0</td>\n",
       "      <td>Working</td>\n",
       "      <td>Secondary / secondary special</td>\n",
       "      <td>Civil marriage</td>\n",
       "      <td>House / apartment</td>\n",
       "      <td>-10886</td>\n",
       "      <td>-1315</td>\n",
       "      <td>1</td>\n",
       "      <td>1</td>\n",
       "      <td>0</td>\n",
       "      <td>0</td>\n",
       "      <td>Laborers</td>\n",
       "      <td>2.0</td>\n",
       "      <td>-34.0</td>\n",
       "      <td>NaN</td>\n",
       "    </tr>\n",
       "    <tr>\n",
       "      <th>9997</th>\n",
       "      <td>36454</td>\n",
       "      <td>F</td>\n",
       "      <td>N</td>\n",
       "      <td>Y</td>\n",
       "      <td>0</td>\n",
       "      <td>292500.0</td>\n",
       "      <td>Working</td>\n",
       "      <td>Secondary / secondary special</td>\n",
       "      <td>Married</td>\n",
       "      <td>House / apartment</td>\n",
       "      <td>-21016</td>\n",
       "      <td>-14018</td>\n",
       "      <td>1</td>\n",
       "      <td>0</td>\n",
       "      <td>0</td>\n",
       "      <td>0</td>\n",
       "      <td>Medicine staff</td>\n",
       "      <td>2.0</td>\n",
       "      <td>-55.0</td>\n",
       "      <td>NaN</td>\n",
       "    </tr>\n",
       "    <tr>\n",
       "      <th>9998</th>\n",
       "      <td>36455</td>\n",
       "      <td>F</td>\n",
       "      <td>Y</td>\n",
       "      <td>N</td>\n",
       "      <td>0</td>\n",
       "      <td>180000.0</td>\n",
       "      <td>Commercial associate</td>\n",
       "      <td>Secondary / secondary special</td>\n",
       "      <td>Married</td>\n",
       "      <td>House / apartment</td>\n",
       "      <td>-16541</td>\n",
       "      <td>-1085</td>\n",
       "      <td>1</td>\n",
       "      <td>0</td>\n",
       "      <td>1</td>\n",
       "      <td>0</td>\n",
       "      <td>NaN</td>\n",
       "      <td>2.0</td>\n",
       "      <td>-33.0</td>\n",
       "      <td>NaN</td>\n",
       "    </tr>\n",
       "    <tr>\n",
       "      <th>9999</th>\n",
       "      <td>36456</td>\n",
       "      <td>F</td>\n",
       "      <td>N</td>\n",
       "      <td>Y</td>\n",
       "      <td>0</td>\n",
       "      <td>270000.0</td>\n",
       "      <td>Working</td>\n",
       "      <td>Higher education</td>\n",
       "      <td>Married</td>\n",
       "      <td>House / apartment</td>\n",
       "      <td>-9154</td>\n",
       "      <td>-187</td>\n",
       "      <td>1</td>\n",
       "      <td>0</td>\n",
       "      <td>0</td>\n",
       "      <td>1</td>\n",
       "      <td>Laborers</td>\n",
       "      <td>2.0</td>\n",
       "      <td>-11.0</td>\n",
       "      <td>NaN</td>\n",
       "    </tr>\n",
       "  </tbody>\n",
       "</table>\n",
       "</div>"
      ],
      "text/plain": [
       "      index gender car reality  child_num  income_total           income_type  \\\n",
       "9995  36452      F   Y       Y          0      202500.0               Working   \n",
       "9996  36453      M   Y       Y          0      202500.0               Working   \n",
       "9997  36454      F   N       Y          0      292500.0               Working   \n",
       "9998  36455      F   Y       N          0      180000.0  Commercial associate   \n",
       "9999  36456      F   N       Y          0      270000.0               Working   \n",
       "\n",
       "                           edu_type     family_type         house_type  \\\n",
       "9995              Incomplete higher         Married  House / apartment   \n",
       "9996  Secondary / secondary special  Civil marriage  House / apartment   \n",
       "9997  Secondary / secondary special         Married  House / apartment   \n",
       "9998  Secondary / secondary special         Married  House / apartment   \n",
       "9999               Higher education         Married  House / apartment   \n",
       "\n",
       "      DAYS_BIRTH  DAYS_EMPLOYED  FLAG_MOBIL  work_phone  phone  email  \\\n",
       "9995      -18593          -5434           1           1      1      0   \n",
       "9996      -10886          -1315           1           1      0      0   \n",
       "9997      -21016         -14018           1           0      0      0   \n",
       "9998      -16541          -1085           1           0      1      0   \n",
       "9999       -9154           -187           1           0      0      1   \n",
       "\n",
       "          occyp_type  family_size  begin_month  credit  \n",
       "9995     Accountants          2.0        -19.0     NaN  \n",
       "9996        Laborers          2.0        -34.0     NaN  \n",
       "9997  Medicine staff          2.0        -55.0     NaN  \n",
       "9998             NaN          2.0        -33.0     NaN  \n",
       "9999        Laborers          2.0        -11.0     NaN  "
      ]
     },
     "execution_count": 6,
     "metadata": {},
     "output_type": "execute_result"
    }
   ],
   "source": [
    "data.tail()"
   ]
  },
  {
   "cell_type": "markdown",
   "id": "yellow-evidence",
   "metadata": {},
   "source": [
    "# 데이터 탐색"
   ]
  },
  {
   "cell_type": "code",
   "execution_count": 7,
   "id": "apart-simple",
   "metadata": {},
   "outputs": [
    {
     "data": {
      "text/plain": [
       "<AxesSubplot:>"
      ]
     },
     "execution_count": 7,
     "metadata": {},
     "output_type": "execute_result"
    },
    {
     "data": {
      "image/png": "[encoded data removed]",
      "text/plain": [
       "<Figure size 648x648 with 2 Axes>"
      ]
     },
     "metadata": {
      "needs_background": "light"
     },
     "output_type": "display_data"
    }
   ],
   "source": [
    "plt.figure(figsize =(9,9))\n",
    "corr = train.corr()\n",
    "sns.heatmap(corr,cmap='RdBu')"
   ]
  },
  {
   "cell_type": "code",
   "execution_count": 8,
   "id": "supported-pipeline",
   "metadata": {},
   "outputs": [
    {
     "data": {
      "text/plain": [
       "0.8891141560150988"
      ]
     },
     "execution_count": 8,
     "metadata": {},
     "output_type": "execute_result"
    }
   ],
   "source": [
    "#family_size와 child_num의 상관관계 매우 높음.\n",
    "data[\"family_size\"].corr(data[\"child_num\"])"
   ]
  },
  {
   "cell_type": "code",
   "execution_count": 9,
   "id": "neither-opera",
   "metadata": {},
   "outputs": [
    {
     "data": {
      "text/plain": [
       "-0.6162131099634471"
      ]
     },
     "execution_count": 9,
     "metadata": {},
     "output_type": "execute_result"
    }
   ],
   "source": [
    "#DAYS_EMPLOYED와 DAYS_BIRTH의 상관관계 비교적 높음.\n",
    "data[\"DAYS_EMPLOYED\"].corr(data[\"DAYS_BIRTH\"])"
   ]
  },
  {
   "cell_type": "code",
   "execution_count": 10,
   "id": "established-jumping",
   "metadata": {},
   "outputs": [
    {
     "data": {
      "text/plain": [
       "<AxesSubplot:xlabel='family_size', ylabel='Density'>"
      ]
     },
     "execution_count": 10,
     "metadata": {},
     "output_type": "execute_result"
    },
    {
     "data": {
      "image/png": "[encoded data removed]",
      "text/plain": [
       "<Figure size 432x288 with 1 Axes>"
      ]
     },
     "metadata": {
      "needs_background": "light"
     },
     "output_type": "display_data"
    }
   ],
   "source": [
    "sns.distplot(data[\"family_size\"])"
   ]
  },
  {
   "cell_type": "code",
   "execution_count": 11,
   "id": "written-disclaimer",
   "metadata": {},
   "outputs": [
    {
     "data": {
      "text/plain": [
       "<AxesSubplot:xlabel='child_num', ylabel='Density'>"
      ]
     },
     "execution_count": 11,
     "metadata": {},
     "output_type": "execute_result"
    },
    {
     "data": {
      "image/png": "[encoded data removed]",
      "text/plain": [
       "<Figure size 432x288 with 1 Axes>"
      ]
     },
     "metadata": {
      "needs_background": "light"
     },
     "output_type": "display_data"
    }
   ],
   "source": [
    "sns.distplot(data[\"child_num\"])"
   ]
  },
  {
   "cell_type": "code",
   "execution_count": 12,
   "id": "collected-header",
   "metadata": {},
   "outputs": [],
   "source": [
    "#child_num제거\n",
    "data.drop(\"child_num\",axis=1,inplace=True)"
   ]
  },
  {
   "cell_type": "code",
   "execution_count": null,
   "id": "recognized-horizon",
   "metadata": {},
   "outputs": [],
   "source": []
  },
  {
   "cell_type": "code",
   "execution_count": null,
   "id": "collaborative-boulder",
   "metadata": {},
   "outputs": [],
   "source": []
  },
  {
   "cell_type": "code",
   "execution_count": null,
   "id": "complete-liquid",
   "metadata": {},
   "outputs": [],
   "source": []
  },
  {
   "cell_type": "markdown",
   "id": "golden-memorabilia",
   "metadata": {},
   "source": [
    "# 데이터 전처리"
   ]
  },
  {
   "cell_type": "code",
   "execution_count": 13,
   "id": "numerous-illinois",
   "metadata": {},
   "outputs": [],
   "source": [
    "def categorical_show(df, col, y_cols='credit'):\n",
    "    from collections import Counter\n",
    "    print('unique items:', df[col].unique())\n",
    "    print()\n",
    "    counter = Counter(df[col])\n",
    "    print(counter)\n",
    "    plt.bar(counter.keys(), counter.values())\n",
    "    plt.xticks(rotation=30)\n",
    "    plt.title('people in classes')\n",
    "    plt.show()\n",
    "    \n",
    "    fig, axes = plt.subplots(1, len(df[col].unique()), figsize=(16, 4))\n",
    "\n",
    "    for i, w in enumerate(df[col].unique()):\n",
    "        axes[i].hist(df[y_cols][df[col]==w], bins=3, color='dimgray',  rwidth=0.8)\n",
    "        axes[i].set_title(w)\n",
    "    plt.show()"
   ]
  },
  {
   "cell_type": "markdown",
   "id": "phantom-party",
   "metadata": {},
   "source": [
    "### FLAG_MOBIL 제거"
   ]
  },
  {
   "cell_type": "code",
   "execution_count": 14,
   "id": "julian-louisville",
   "metadata": {},
   "outputs": [
    {
     "data": {
      "text/plain": [
       "(36457, 18)"
      ]
     },
     "execution_count": 14,
     "metadata": {},
     "output_type": "execute_result"
    }
   ],
   "source": [
    "data.drop(\"FLAG_MOBIL\",axis=1,inplace=True)\n",
    "data.shape"
   ]
  },
  {
   "cell_type": "markdown",
   "id": "identical-detroit",
   "metadata": {},
   "source": [
    "### binary 변수 변환"
   ]
  },
  {
   "cell_type": "code",
   "execution_count": 15,
   "id": "representative-recall",
   "metadata": {},
   "outputs": [
    {
     "name": "stdout",
     "output_type": "stream",
     "text": [
      "gender :\n",
      "0    24430\n",
      "1    12027\n",
      "Name: gender, dtype: int64\n",
      "--------------\n",
      "Having a car or not : \n",
      "0    22614\n",
      "1    13843\n",
      "Name: car, dtype: int64\n",
      "--------------\n",
      "Having house reality or not: \n",
      "1    24506\n",
      "0    11951\n",
      "Name: reality, dtype: int64\n",
      "--------------\n",
      "Having a phone or not: \n",
      "0    25709\n",
      "1    10748\n",
      "Name: phone, dtype: int64\n",
      "--------------\n",
      "Having a email or not: \n",
      "0    33186\n",
      "1     3271\n",
      "Name: email, dtype: int64\n",
      "--------------\n",
      "Having a work phone or not: \n",
      "0    28235\n",
      "1     8222\n",
      "Name: work_phone, dtype: int64\n",
      "--------------\n"
     ]
    }
   ],
   "source": [
    "data['gender'] = data['gender'].replace(['F','M'],[0,1])\n",
    "print('gender :')\n",
    "print(data['gender'].value_counts())\n",
    "print('--------------')\n",
    "\n",
    "print('Having a car or not : ')\n",
    "data['car'] = data['car'].replace(['N','Y'],[0,1])\n",
    "print(data['car'].value_counts())\n",
    "print('--------------')\n",
    "\n",
    "print('Having house reality or not: ')\n",
    "data['reality'] = data['reality'].replace(['N','Y'],[0,1])\n",
    "print(data['reality'].value_counts())\n",
    "print('--------------')\n",
    "      \n",
    "print('Having a phone or not: ')\n",
    "print(data['phone'].value_counts())\n",
    "print('--------------')\n",
    "      \n",
    "\n",
    "print('Having a email or not: ')\n",
    "print(data['email'].value_counts())\n",
    "print('--------------')\n",
    "      \n",
    "\n",
    "print('Having a work phone or not: ')\n",
    "print(data['work_phone'].value_counts())\n",
    "print('--------------')"
   ]
  },
  {
   "cell_type": "markdown",
   "id": "frequent-klein",
   "metadata": {},
   "source": [
    "### income_total 구간 처리"
   ]
  },
  {
   "cell_type": "code",
   "execution_count": 16,
   "id": "stainless-denver",
   "metadata": {},
   "outputs": [
    {
     "data": {
      "text/plain": [
       "index              int64\n",
       "gender             int64\n",
       "car                int64\n",
       "reality            int64\n",
       "income_total      object\n",
       "income_type       object\n",
       "edu_type          object\n",
       "family_type       object\n",
       "house_type        object\n",
       "DAYS_BIRTH         int64\n",
       "DAYS_EMPLOYED      int64\n",
       "work_phone         int64\n",
       "phone              int64\n",
       "email              int64\n",
       "occyp_type        object\n",
       "family_size      float64\n",
       "begin_month      float64\n",
       "credit           float64\n",
       "dtype: object"
      ]
     },
     "execution_count": 16,
     "metadata": {},
     "output_type": "execute_result"
    }
   ],
   "source": [
    "data['income_total'] = data['income_total'].astype(object)\n",
    "data.dtypes"
   ]
  },
  {
   "cell_type": "code",
   "execution_count": 17,
   "id": "established-blank",
   "metadata": {},
   "outputs": [
    {
     "name": "stdout",
     "output_type": "stream",
     "text": [
      "(2.544, 18.18]      22460\n",
      "(18.18, 33.66]      11380\n",
      "(33.66, 49.14]       2099\n",
      "(49.14, 64.62]        274\n",
      "(64.62, 80.1]         165\n",
      "(80.1, 95.58]          58\n",
      "(95.58, 111.06]         4\n",
      "(111.06, 126.54]        3\n",
      "(126.54, 142.02]        6\n",
      "(142.02, 157.5]         8\n",
      "Name: income_total, dtype: int64\n"
     ]
    },
    {
     "data": {
      "text/plain": [
       "<AxesSubplot:ylabel='Frequency'>"
      ]
     },
     "execution_count": 17,
     "metadata": {},
     "output_type": "execute_result"
    },
    {
     "data": {
      "image/png": "[encoded data removed]",
      "text/plain": [
       "<Figure size 432x288 with 1 Axes>"
      ]
     },
     "metadata": {
      "needs_background": "light"
     },
     "output_type": "display_data"
    }
   ],
   "source": [
    "data['income_total'] = data['income_total']/10000 \n",
    "print(data['income_total'].value_counts(bins=10,sort=False))\n",
    "data['income_total'].plot(kind='hist',bins=50,density=True)"
   ]
  },
  {
   "cell_type": "code",
   "execution_count": 18,
   "id": "abstract-overview",
   "metadata": {},
   "outputs": [],
   "source": [
    "count, bin_dividers =np.histogram(data['income_total'], bins=7)"
   ]
  },
  {
   "cell_type": "code",
   "execution_count": 19,
   "id": "plastic-occasion",
   "metadata": {},
   "outputs": [],
   "source": [
    "bin_names=['소득'+str(i) for i in range(7) ]\n",
    "data['income_total']=pd.cut(x=data['income_total'], bins=bin_dividers, labels=bin_names, include_lowest=True)"
   ]
  },
  {
   "cell_type": "markdown",
   "id": "precious-emperor",
   "metadata": {},
   "source": [
    "### occyp_type 제거"
   ]
  },
  {
   "cell_type": "code",
   "execution_count": 20,
   "id": "golden-karma",
   "metadata": {},
   "outputs": [],
   "source": [
    "data.drop(\"occyp_type\",axis=1,inplace=True)"
   ]
  },
  {
   "cell_type": "markdown",
   "id": "adopted-tournament",
   "metadata": {},
   "source": [
    "### encoding"
   ]
  },
  {
   "cell_type": "markdown",
   "id": "pacific-monthly",
   "metadata": {},
   "source": [
    "encoding하고 의미있는 변수만 남겼을 때 오히려 logloss가 늘어남. 그래서 이 작업 취소. 그냥 label_encoder 사용."
   ]
  },
  {
   "cell_type": "code",
   "execution_count": 21,
   "id": "valid-breakfast",
   "metadata": {},
   "outputs": [],
   "source": [
    "from sklearn import preprocessing\n",
    "label_encoder=preprocessing.LabelEncoder()\n",
    "data['income_type']=label_encoder.fit_transform(data['income_type'])\n",
    "data['edu_type']=label_encoder.fit_transform(data['edu_type'])\n",
    "data['family_type']=label_encoder.fit_transform(data['family_type'])\n",
    "data['house_type']=label_encoder.fit_transform(data['house_type'])\n",
    "data['income_total']=label_encoder.fit_transform(data['income_total'])\n",
    "#data['occyp_type']=label_encoder.fit_transform(data['occyp_type'])"
   ]
  },
  {
   "cell_type": "code",
   "execution_count": 22,
   "id": "chicken-vocabulary",
   "metadata": {},
   "outputs": [
    {
     "data": {
      "text/html": [
       "<div>\n",
       "<style scoped>\n",
       "    .dataframe tbody tr th:only-of-type {\n",
       "        vertical-align: middle;\n",
       "    }\n",
       "\n",
       "    .dataframe tbody tr th {\n",
       "        vertical-align: top;\n",
       "    }\n",
       "\n",
       "    .dataframe thead th {\n",
       "        text-align: right;\n",
       "    }\n",
       "</style>\n",
       "<table border=\"1\" class=\"dataframe\">\n",
       "  <thead>\n",
       "    <tr style=\"text-align: right;\">\n",
       "      <th></th>\n",
       "      <th>index</th>\n",
       "      <th>gender</th>\n",
       "      <th>car</th>\n",
       "      <th>reality</th>\n",
       "      <th>income_total</th>\n",
       "      <th>income_type</th>\n",
       "      <th>edu_type</th>\n",
       "      <th>family_type</th>\n",
       "      <th>house_type</th>\n",
       "      <th>DAYS_BIRTH</th>\n",
       "      <th>DAYS_EMPLOYED</th>\n",
       "      <th>work_phone</th>\n",
       "      <th>phone</th>\n",
       "      <th>email</th>\n",
       "      <th>family_size</th>\n",
       "      <th>begin_month</th>\n",
       "      <th>credit</th>\n",
       "    </tr>\n",
       "  </thead>\n",
       "  <tbody>\n",
       "    <tr>\n",
       "      <th>0</th>\n",
       "      <td>0</td>\n",
       "      <td>0</td>\n",
       "      <td>0</td>\n",
       "      <td>0</td>\n",
       "      <td>0</td>\n",
       "      <td>0</td>\n",
       "      <td>1</td>\n",
       "      <td>1</td>\n",
       "      <td>2</td>\n",
       "      <td>-13899</td>\n",
       "      <td>-4709</td>\n",
       "      <td>0</td>\n",
       "      <td>0</td>\n",
       "      <td>0</td>\n",
       "      <td>2.0</td>\n",
       "      <td>-6.0</td>\n",
       "      <td>1.0</td>\n",
       "    </tr>\n",
       "    <tr>\n",
       "      <th>1</th>\n",
       "      <td>1</td>\n",
       "      <td>0</td>\n",
       "      <td>0</td>\n",
       "      <td>1</td>\n",
       "      <td>0</td>\n",
       "      <td>0</td>\n",
       "      <td>4</td>\n",
       "      <td>0</td>\n",
       "      <td>1</td>\n",
       "      <td>-11380</td>\n",
       "      <td>-1540</td>\n",
       "      <td>0</td>\n",
       "      <td>0</td>\n",
       "      <td>1</td>\n",
       "      <td>3.0</td>\n",
       "      <td>-5.0</td>\n",
       "      <td>1.0</td>\n",
       "    </tr>\n",
       "    <tr>\n",
       "      <th>2</th>\n",
       "      <td>2</td>\n",
       "      <td>1</td>\n",
       "      <td>1</td>\n",
       "      <td>1</td>\n",
       "      <td>1</td>\n",
       "      <td>4</td>\n",
       "      <td>1</td>\n",
       "      <td>1</td>\n",
       "      <td>1</td>\n",
       "      <td>-19087</td>\n",
       "      <td>-4434</td>\n",
       "      <td>0</td>\n",
       "      <td>1</td>\n",
       "      <td>0</td>\n",
       "      <td>2.0</td>\n",
       "      <td>-22.0</td>\n",
       "      <td>2.0</td>\n",
       "    </tr>\n",
       "    <tr>\n",
       "      <th>3</th>\n",
       "      <td>3</td>\n",
       "      <td>0</td>\n",
       "      <td>0</td>\n",
       "      <td>1</td>\n",
       "      <td>0</td>\n",
       "      <td>0</td>\n",
       "      <td>4</td>\n",
       "      <td>1</td>\n",
       "      <td>1</td>\n",
       "      <td>-15088</td>\n",
       "      <td>-2092</td>\n",
       "      <td>0</td>\n",
       "      <td>1</td>\n",
       "      <td>0</td>\n",
       "      <td>2.0</td>\n",
       "      <td>-37.0</td>\n",
       "      <td>0.0</td>\n",
       "    </tr>\n",
       "    <tr>\n",
       "      <th>4</th>\n",
       "      <td>4</td>\n",
       "      <td>0</td>\n",
       "      <td>1</td>\n",
       "      <td>1</td>\n",
       "      <td>0</td>\n",
       "      <td>2</td>\n",
       "      <td>1</td>\n",
       "      <td>1</td>\n",
       "      <td>1</td>\n",
       "      <td>-15037</td>\n",
       "      <td>-2105</td>\n",
       "      <td>0</td>\n",
       "      <td>0</td>\n",
       "      <td>0</td>\n",
       "      <td>2.0</td>\n",
       "      <td>-26.0</td>\n",
       "      <td>2.0</td>\n",
       "    </tr>\n",
       "    <tr>\n",
       "      <th>...</th>\n",
       "      <td>...</td>\n",
       "      <td>...</td>\n",
       "      <td>...</td>\n",
       "      <td>...</td>\n",
       "      <td>...</td>\n",
       "      <td>...</td>\n",
       "      <td>...</td>\n",
       "      <td>...</td>\n",
       "      <td>...</td>\n",
       "      <td>...</td>\n",
       "      <td>...</td>\n",
       "      <td>...</td>\n",
       "      <td>...</td>\n",
       "      <td>...</td>\n",
       "      <td>...</td>\n",
       "      <td>...</td>\n",
       "      <td>...</td>\n",
       "    </tr>\n",
       "    <tr>\n",
       "      <th>9995</th>\n",
       "      <td>36452</td>\n",
       "      <td>0</td>\n",
       "      <td>1</td>\n",
       "      <td>1</td>\n",
       "      <td>0</td>\n",
       "      <td>4</td>\n",
       "      <td>2</td>\n",
       "      <td>1</td>\n",
       "      <td>1</td>\n",
       "      <td>-18593</td>\n",
       "      <td>-5434</td>\n",
       "      <td>1</td>\n",
       "      <td>1</td>\n",
       "      <td>0</td>\n",
       "      <td>2.0</td>\n",
       "      <td>-19.0</td>\n",
       "      <td>NaN</td>\n",
       "    </tr>\n",
       "    <tr>\n",
       "      <th>9996</th>\n",
       "      <td>36453</td>\n",
       "      <td>1</td>\n",
       "      <td>1</td>\n",
       "      <td>1</td>\n",
       "      <td>0</td>\n",
       "      <td>4</td>\n",
       "      <td>4</td>\n",
       "      <td>0</td>\n",
       "      <td>1</td>\n",
       "      <td>-10886</td>\n",
       "      <td>-1315</td>\n",
       "      <td>1</td>\n",
       "      <td>0</td>\n",
       "      <td>0</td>\n",
       "      <td>2.0</td>\n",
       "      <td>-34.0</td>\n",
       "      <td>NaN</td>\n",
       "    </tr>\n",
       "    <tr>\n",
       "      <th>9997</th>\n",
       "      <td>36454</td>\n",
       "      <td>0</td>\n",
       "      <td>0</td>\n",
       "      <td>1</td>\n",
       "      <td>1</td>\n",
       "      <td>4</td>\n",
       "      <td>4</td>\n",
       "      <td>1</td>\n",
       "      <td>1</td>\n",
       "      <td>-21016</td>\n",
       "      <td>-14018</td>\n",
       "      <td>0</td>\n",
       "      <td>0</td>\n",
       "      <td>0</td>\n",
       "      <td>2.0</td>\n",
       "      <td>-55.0</td>\n",
       "      <td>NaN</td>\n",
       "    </tr>\n",
       "    <tr>\n",
       "      <th>9998</th>\n",
       "      <td>36455</td>\n",
       "      <td>0</td>\n",
       "      <td>1</td>\n",
       "      <td>0</td>\n",
       "      <td>0</td>\n",
       "      <td>0</td>\n",
       "      <td>4</td>\n",
       "      <td>1</td>\n",
       "      <td>1</td>\n",
       "      <td>-16541</td>\n",
       "      <td>-1085</td>\n",
       "      <td>0</td>\n",
       "      <td>1</td>\n",
       "      <td>0</td>\n",
       "      <td>2.0</td>\n",
       "      <td>-33.0</td>\n",
       "      <td>NaN</td>\n",
       "    </tr>\n",
       "    <tr>\n",
       "      <th>9999</th>\n",
       "      <td>36456</td>\n",
       "      <td>0</td>\n",
       "      <td>0</td>\n",
       "      <td>1</td>\n",
       "      <td>1</td>\n",
       "      <td>4</td>\n",
       "      <td>1</td>\n",
       "      <td>1</td>\n",
       "      <td>1</td>\n",
       "      <td>-9154</td>\n",
       "      <td>-187</td>\n",
       "      <td>0</td>\n",
       "      <td>0</td>\n",
       "      <td>1</td>\n",
       "      <td>2.0</td>\n",
       "      <td>-11.0</td>\n",
       "      <td>NaN</td>\n",
       "    </tr>\n",
       "  </tbody>\n",
       "</table>\n",
       "<p>36457 rows × 17 columns</p>\n",
       "</div>"
      ],
      "text/plain": [
       "      index  gender  car  reality  income_total  income_type  edu_type  \\\n",
       "0         0       0    0        0             0            0         1   \n",
       "1         1       0    0        1             0            0         4   \n",
       "2         2       1    1        1             1            4         1   \n",
       "3         3       0    0        1             0            0         4   \n",
       "4         4       0    1        1             0            2         1   \n",
       "...     ...     ...  ...      ...           ...          ...       ...   \n",
       "9995  36452       0    1        1             0            4         2   \n",
       "9996  36453       1    1        1             0            4         4   \n",
       "9997  36454       0    0        1             1            4         4   \n",
       "9998  36455       0    1        0             0            0         4   \n",
       "9999  36456       0    0        1             1            4         1   \n",
       "\n",
       "      family_type  house_type  DAYS_BIRTH  DAYS_EMPLOYED  work_phone  phone  \\\n",
       "0               1           2      -13899          -4709           0      0   \n",
       "1               0           1      -11380          -1540           0      0   \n",
       "2               1           1      -19087          -4434           0      1   \n",
       "3               1           1      -15088          -2092           0      1   \n",
       "4               1           1      -15037          -2105           0      0   \n",
       "...           ...         ...         ...            ...         ...    ...   \n",
       "9995            1           1      -18593          -5434           1      1   \n",
       "9996            0           1      -10886          -1315           1      0   \n",
       "9997            1           1      -21016         -14018           0      0   \n",
       "9998            1           1      -16541          -1085           0      1   \n",
       "9999            1           1       -9154           -187           0      0   \n",
       "\n",
       "      email  family_size  begin_month  credit  \n",
       "0         0          2.0         -6.0     1.0  \n",
       "1         1          3.0         -5.0     1.0  \n",
       "2         0          2.0        -22.0     2.0  \n",
       "3         0          2.0        -37.0     0.0  \n",
       "4         0          2.0        -26.0     2.0  \n",
       "...     ...          ...          ...     ...  \n",
       "9995      0          2.0        -19.0     NaN  \n",
       "9996      0          2.0        -34.0     NaN  \n",
       "9997      0          2.0        -55.0     NaN  \n",
       "9998      0          2.0        -33.0     NaN  \n",
       "9999      1          2.0        -11.0     NaN  \n",
       "\n",
       "[36457 rows x 17 columns]"
      ]
     },
     "execution_count": 22,
     "metadata": {},
     "output_type": "execute_result"
    }
   ],
   "source": [
    "data"
   ]
  },
  {
   "cell_type": "markdown",
   "id": "pressed-necklace",
   "metadata": {},
   "source": [
    "### 음수 값 구간 처리"
   ]
  },
  {
   "cell_type": "code",
   "execution_count": 23,
   "id": "spread-member",
   "metadata": {},
   "outputs": [],
   "source": [
    "#minus 변경하고\n",
    "#구간화 함수\n",
    "def make_bin(variable, n):\n",
    "    data[variable]=-data[variable]\n",
    "    count, bin_dividers =np.histogram(data[variable], bins=n)\n",
    "    bin_names=[str(i) for i in range(n)]\n",
    "    data[variable]=pd.cut(x=data[variable], bins=bin_dividers, labels=bin_names, include_lowest=True)\n",
    "    data[variable]=label_encoder.fit_transform(data[variable])"
   ]
  },
  {
   "cell_type": "code",
   "execution_count": 24,
   "id": "local-conditioning",
   "metadata": {},
   "outputs": [],
   "source": [
    "make_bin('DAYS_BIRTH', n=10)\n",
    "#make_bin('DAYS_EMPLOYED', n=6)\n",
    "make_bin('begin_month', n=4)"
   ]
  },
  {
   "cell_type": "markdown",
   "id": "separated-masters",
   "metadata": {},
   "source": [
    "### 이상치 처리"
   ]
  },
  {
   "cell_type": "markdown",
   "id": "tracked-terrain",
   "metadata": {},
   "source": [
    "#### 1) income total"
   ]
  },
  {
   "cell_type": "code",
   "execution_count": 25,
   "id": "better-bankruptcy",
   "metadata": {},
   "outputs": [
    {
     "data": {
      "text/plain": [
       "<AxesSubplot:xlabel='income_total', ylabel='Density'>"
      ]
     },
     "execution_count": 25,
     "metadata": {},
     "output_type": "execute_result"
    },
    {
     "data": {
      "image/png": "[encoded data removed]",
      "text/plain": [
       "<Figure size 432x288 with 1 Axes>"
      ]
     },
     "metadata": {
      "needs_background": "light"
     },
     "output_type": "display_data"
    }
   ],
   "source": [
    "sns.distplot(data[\"income_total\"])"
   ]
  },
  {
   "cell_type": "code",
   "execution_count": 26,
   "id": "diverse-picture",
   "metadata": {},
   "outputs": [
    {
     "data": {
      "text/plain": [
       "0    29852\n",
       "1     6071\n",
       "2      413\n",
       "3       96\n",
       "4       11\n",
       "6        8\n",
       "5        6\n",
       "Name: income_total, dtype: int64"
      ]
     },
     "execution_count": 26,
     "metadata": {},
     "output_type": "execute_result"
    }
   ],
   "source": [
    "data[\"income_total\"].value_counts()"
   ]
  },
  {
   "cell_type": "code",
   "execution_count": 27,
   "id": "secret-impossible",
   "metadata": {},
   "outputs": [
    {
     "data": {
      "image/png": "[encoded data removed]",
      "text/plain": [
       "<Figure size 1440x1440 with 9 Axes>"
      ]
     },
     "metadata": {
      "needs_background": "light"
     },
     "output_type": "display_data"
    }
   ],
   "source": [
    "fig, axes = plt.subplots(3, 3, figsize=(20, 20))\n",
    "j=-1\n",
    "for i, w in enumerate(data[\"income_total\"].unique()):\n",
    "    if i%3==0:\n",
    "        j+=1\n",
    "        k=0\n",
    "    axes[j,k].hist(data[\"credit\"][data[\"income_total\"]==w], bins=3, color='dimgray',  rwidth=0.8)\n",
    "    axes[j,k].set_title(w)\n",
    "    k+=1\n",
    "plt.show()"
   ]
  },
  {
   "cell_type": "code",
   "execution_count": 28,
   "id": "selective-testimony",
   "metadata": {},
   "outputs": [],
   "source": [
    "#각 income_total마다 credit의 비율 표를 만들었으면 좋겠는데..."
   ]
  },
  {
   "cell_type": "code",
   "execution_count": 101,
   "id": "surprised-single",
   "metadata": {},
   "outputs": [
    {
     "data": {
      "text/html": [
       "<div>\n",
       "<style scoped>\n",
       "    .dataframe tbody tr th:only-of-type {\n",
       "        vertical-align: middle;\n",
       "    }\n",
       "\n",
       "    .dataframe tbody tr th {\n",
       "        vertical-align: top;\n",
       "    }\n",
       "\n",
       "    .dataframe thead th {\n",
       "        text-align: right;\n",
       "    }\n",
       "</style>\n",
       "<table border=\"1\" class=\"dataframe\">\n",
       "  <thead>\n",
       "    <tr style=\"text-align: right;\">\n",
       "      <th>credit</th>\n",
       "      <th>0.0</th>\n",
       "      <th>1.0</th>\n",
       "      <th>2.0</th>\n",
       "    </tr>\n",
       "    <tr>\n",
       "      <th>income_total</th>\n",
       "      <th></th>\n",
       "      <th></th>\n",
       "      <th></th>\n",
       "    </tr>\n",
       "  </thead>\n",
       "  <tbody>\n",
       "    <tr>\n",
       "      <th>0</th>\n",
       "      <td>2558</td>\n",
       "      <td>5223</td>\n",
       "      <td>13820</td>\n",
       "    </tr>\n",
       "    <tr>\n",
       "      <th>1</th>\n",
       "      <td>610</td>\n",
       "      <td>981</td>\n",
       "      <td>2871</td>\n",
       "    </tr>\n",
       "    <tr>\n",
       "      <th>2</th>\n",
       "      <td>44</td>\n",
       "      <td>50</td>\n",
       "      <td>211</td>\n",
       "    </tr>\n",
       "    <tr>\n",
       "      <th>3</th>\n",
       "      <td>9</td>\n",
       "      <td>11</td>\n",
       "      <td>51</td>\n",
       "    </tr>\n",
       "    <tr>\n",
       "      <th>4</th>\n",
       "      <td>1</td>\n",
       "      <td>2</td>\n",
       "      <td>6</td>\n",
       "    </tr>\n",
       "    <tr>\n",
       "      <th>5</th>\n",
       "      <td>0</td>\n",
       "      <td>0</td>\n",
       "      <td>4</td>\n",
       "    </tr>\n",
       "    <tr>\n",
       "      <th>6</th>\n",
       "      <td>0</td>\n",
       "      <td>0</td>\n",
       "      <td>5</td>\n",
       "    </tr>\n",
       "  </tbody>\n",
       "</table>\n",
       "</div>"
      ],
      "text/plain": [
       "credit         0.0   1.0    2.0\n",
       "income_total                   \n",
       "0             2558  5223  13820\n",
       "1              610   981   2871\n",
       "2               44    50    211\n",
       "3                9    11     51\n",
       "4                1     2      6\n",
       "5                0     0      4\n",
       "6                0     0      5"
      ]
     },
     "execution_count": 101,
     "metadata": {},
     "output_type": "execute_result"
    }
   ],
   "source": [
    "train2=data[:len(data)-10000]\n",
    "train_inct=pd.crosstab(index=train2[\"income_total\"],columns=train2[\"credit\"])\n",
    "train_inct"
   ]
  },
  {
   "cell_type": "code",
   "execution_count": 102,
   "id": "adequate-electron",
   "metadata": {},
   "outputs": [
    {
     "data": {
      "text/html": [
       "<div>\n",
       "<style scoped>\n",
       "    .dataframe tbody tr th:only-of-type {\n",
       "        vertical-align: middle;\n",
       "    }\n",
       "\n",
       "    .dataframe tbody tr th {\n",
       "        vertical-align: top;\n",
       "    }\n",
       "\n",
       "    .dataframe thead th {\n",
       "        text-align: right;\n",
       "    }\n",
       "</style>\n",
       "<table border=\"1\" class=\"dataframe\">\n",
       "  <thead>\n",
       "    <tr style=\"text-align: right;\">\n",
       "      <th>credit</th>\n",
       "      <th>0.0</th>\n",
       "      <th>1.0</th>\n",
       "      <th>2.0</th>\n",
       "    </tr>\n",
       "    <tr>\n",
       "      <th>income_total</th>\n",
       "      <th></th>\n",
       "      <th></th>\n",
       "      <th></th>\n",
       "    </tr>\n",
       "  </thead>\n",
       "  <tbody>\n",
       "    <tr>\n",
       "      <th>0</th>\n",
       "      <td>0.118420</td>\n",
       "      <td>0.241794</td>\n",
       "      <td>0.639785</td>\n",
       "    </tr>\n",
       "    <tr>\n",
       "      <th>1</th>\n",
       "      <td>0.136710</td>\n",
       "      <td>0.219857</td>\n",
       "      <td>0.643433</td>\n",
       "    </tr>\n",
       "    <tr>\n",
       "      <th>2</th>\n",
       "      <td>0.144262</td>\n",
       "      <td>0.163934</td>\n",
       "      <td>0.691803</td>\n",
       "    </tr>\n",
       "    <tr>\n",
       "      <th>3</th>\n",
       "      <td>0.126761</td>\n",
       "      <td>0.154930</td>\n",
       "      <td>0.718310</td>\n",
       "    </tr>\n",
       "    <tr>\n",
       "      <th>4</th>\n",
       "      <td>0.111111</td>\n",
       "      <td>0.222222</td>\n",
       "      <td>0.666667</td>\n",
       "    </tr>\n",
       "    <tr>\n",
       "      <th>5</th>\n",
       "      <td>0.000000</td>\n",
       "      <td>0.000000</td>\n",
       "      <td>1.000000</td>\n",
       "    </tr>\n",
       "    <tr>\n",
       "      <th>6</th>\n",
       "      <td>0.000000</td>\n",
       "      <td>0.000000</td>\n",
       "      <td>1.000000</td>\n",
       "    </tr>\n",
       "  </tbody>\n",
       "</table>\n",
       "</div>"
      ],
      "text/plain": [
       "credit             0.0       1.0       2.0\n",
       "income_total                              \n",
       "0             0.118420  0.241794  0.639785\n",
       "1             0.136710  0.219857  0.643433\n",
       "2             0.144262  0.163934  0.691803\n",
       "3             0.126761  0.154930  0.718310\n",
       "4             0.111111  0.222222  0.666667\n",
       "5             0.000000  0.000000  1.000000\n",
       "6             0.000000  0.000000  1.000000"
      ]
     },
     "execution_count": 102,
     "metadata": {},
     "output_type": "execute_result"
    }
   ],
   "source": [
    "for i in range(len(train_inct)):\n",
    "    s=sum(train_inct.loc[i])\n",
    "    train_inct.iloc[i,0]=train_inct.iloc[i,0]/s\n",
    "    train_inct.iloc[i,1]=train_inct.iloc[i,1]/s\n",
    "    train_inct.iloc[i,2]=train_inct.iloc[i,2]/s\n",
    "train_inct"
   ]
  },
  {
   "cell_type": "markdown",
   "id": "searching-columbia",
   "metadata": {},
   "source": [
    "income_total=5와 income_total=6이 확연히 다른 분포를 보이지만 데이터 수가 너무 적다. outlier로 봐도 되지 않을까..."
   ]
  },
  {
   "cell_type": "code",
   "execution_count": 105,
   "id": "every-folder",
   "metadata": {},
   "outputs": [
    {
     "data": {
      "text/plain": [
       "0    8251\n",
       "1    1609\n",
       "2     108\n",
       "3      25\n",
       "6       3\n",
       "4       2\n",
       "5       2\n",
       "Name: income_total, dtype: int64"
      ]
     },
     "execution_count": 105,
     "metadata": {},
     "output_type": "execute_result"
    }
   ],
   "source": [
    "test2=data[len(data)-10000:]\n",
    "test2[\"income_total\"].value_counts()"
   ]
  },
  {
   "cell_type": "markdown",
   "id": "yellow-integration",
   "metadata": {},
   "source": [
    "아 근데 또 test에 5랑 6에 해당하는 애들이 있긴 하네...마냥 없애기도 뭐함ㅜㅜ"
   ]
  },
  {
   "cell_type": "code",
   "execution_count": null,
   "id": "noted-briefs",
   "metadata": {},
   "outputs": [],
   "source": []
  },
  {
   "cell_type": "code",
   "execution_count": null,
   "id": "typical-giant",
   "metadata": {},
   "outputs": [],
   "source": []
  },
  {
   "cell_type": "code",
   "execution_count": null,
   "id": "controlling-niagara",
   "metadata": {},
   "outputs": [],
   "source": []
  },
  {
   "cell_type": "markdown",
   "id": "convenient-measurement",
   "metadata": {},
   "source": [
    "#### 2) DAYS_EMPLOYED"
   ]
  },
  {
   "cell_type": "code",
   "execution_count": 47,
   "id": "olive-annual",
   "metadata": {},
   "outputs": [
    {
     "data": {
      "text/plain": [
       "<AxesSubplot:xlabel='DAYS_EMPLOYED', ylabel='Density'>"
      ]
     },
     "execution_count": 47,
     "metadata": {},
     "output_type": "execute_result"
    },
    {
     "data": {
      "image/png": "[encoded data removed]",
      "text/plain": [
       "<Figure size 432x288 with 1 Axes>"
      ]
     },
     "metadata": {
      "needs_background": "light"
     },
     "output_type": "display_data"
    }
   ],
   "source": [
    "sns.distplot(data[\"DAYS_EMPLOYED\"])"
   ]
  },
  {
   "cell_type": "code",
   "execution_count": 48,
   "id": "prescription-wound",
   "metadata": {},
   "outputs": [
    {
     "data": {
      "text/plain": [
       "<AxesSubplot:xlabel='DAYS_EMPLOYED', ylabel='Density'>"
      ]
     },
     "execution_count": 48,
     "metadata": {},
     "output_type": "execute_result"
    },
    {
     "data": {
      "image/png": "[encoded data removed]",
      "text/plain": [
       "<Figure size 432x288 with 1 Axes>"
      ]
     },
     "metadata": {
      "needs_background": "light"
     },
     "output_type": "display_data"
    }
   ],
   "source": [
    "#무직을 뜻하는 365243을 제거한 분포\n",
    "days_employed=data.loc[data[\"DAYS_EMPLOYED\"]<0]\n",
    "sns.distplot(days_employed[\"DAYS_EMPLOYED\"])"
   ]
  },
  {
   "cell_type": "markdown",
   "id": "joined-institute",
   "metadata": {},
   "source": [
    "365243을 어떻게 처리해야 하나~ 그걸 좀 고민해봐야 할듯"
   ]
  },
  {
   "cell_type": "code",
   "execution_count": null,
   "id": "collect-joshua",
   "metadata": {},
   "outputs": [],
   "source": []
  },
  {
   "cell_type": "code",
   "execution_count": null,
   "id": "final-mounting",
   "metadata": {},
   "outputs": [],
   "source": []
  },
  {
   "cell_type": "code",
   "execution_count": null,
   "id": "brazilian-reporter",
   "metadata": {},
   "outputs": [],
   "source": []
  },
  {
   "cell_type": "markdown",
   "id": "premium-solution",
   "metadata": {},
   "source": [
    "#### 3) family_size"
   ]
  },
  {
   "cell_type": "code",
   "execution_count": 49,
   "id": "duplicate-isaac",
   "metadata": {},
   "outputs": [
    {
     "data": {
      "text/plain": [
       "<AxesSubplot:xlabel='family_size', ylabel='Density'>"
      ]
     },
     "execution_count": 49,
     "metadata": {},
     "output_type": "execute_result"
    },
    {
     "data": {
      "image/png": "[encoded data removed]",
      "text/plain": [
       "<Figure size 432x288 with 1 Axes>"
      ]
     },
     "metadata": {
      "needs_background": "light"
     },
     "output_type": "display_data"
    }
   ],
   "source": [
    "sns.distplot(data[\"family_size\"])"
   ]
  },
  {
   "cell_type": "code",
   "execution_count": 50,
   "id": "wound-village",
   "metadata": {},
   "outputs": [
    {
     "data": {
      "text/plain": [
       "2.0     19463\n",
       "1.0      6987\n",
       "3.0      6421\n",
       "4.0      3106\n",
       "5.0       397\n",
       "6.0        58\n",
       "7.0        19\n",
       "15.0        3\n",
       "9.0         2\n",
       "20.0        1\n",
       "Name: family_size, dtype: int64"
      ]
     },
     "execution_count": 50,
     "metadata": {},
     "output_type": "execute_result"
    }
   ],
   "source": [
    "data[\"family_size\"].value_counts()"
   ]
  },
  {
   "cell_type": "code",
   "execution_count": 53,
   "id": "floral-space",
   "metadata": {},
   "outputs": [
    {
     "data": {
      "text/html": [
       "<div>\n",
       "<style scoped>\n",
       "    .dataframe tbody tr th:only-of-type {\n",
       "        vertical-align: middle;\n",
       "    }\n",
       "\n",
       "    .dataframe tbody tr th {\n",
       "        vertical-align: top;\n",
       "    }\n",
       "\n",
       "    .dataframe thead th {\n",
       "        text-align: right;\n",
       "    }\n",
       "</style>\n",
       "<table border=\"1\" class=\"dataframe\">\n",
       "  <thead>\n",
       "    <tr style=\"text-align: right;\">\n",
       "      <th></th>\n",
       "      <th>index</th>\n",
       "      <th>gender</th>\n",
       "      <th>car</th>\n",
       "      <th>reality</th>\n",
       "      <th>income_total</th>\n",
       "      <th>income_type</th>\n",
       "      <th>edu_type</th>\n",
       "      <th>family_type</th>\n",
       "      <th>house_type</th>\n",
       "      <th>DAYS_BIRTH</th>\n",
       "      <th>DAYS_EMPLOYED</th>\n",
       "      <th>work_phone</th>\n",
       "      <th>phone</th>\n",
       "      <th>email</th>\n",
       "      <th>family_size</th>\n",
       "      <th>begin_month</th>\n",
       "      <th>credit</th>\n",
       "    </tr>\n",
       "  </thead>\n",
       "  <tbody>\n",
       "    <tr>\n",
       "      <th>8462</th>\n",
       "      <td>8462</td>\n",
       "      <td>1</td>\n",
       "      <td>1</td>\n",
       "      <td>1</td>\n",
       "      <td>0</td>\n",
       "      <td>4</td>\n",
       "      <td>4</td>\n",
       "      <td>2</td>\n",
       "      <td>1</td>\n",
       "      <td>5</td>\n",
       "      <td>-1689</td>\n",
       "      <td>0</td>\n",
       "      <td>0</td>\n",
       "      <td>0</td>\n",
       "      <td>15.0</td>\n",
       "      <td>0</td>\n",
       "      <td>2.0</td>\n",
       "    </tr>\n",
       "    <tr>\n",
       "      <th>9021</th>\n",
       "      <td>9021</td>\n",
       "      <td>1</td>\n",
       "      <td>1</td>\n",
       "      <td>1</td>\n",
       "      <td>0</td>\n",
       "      <td>4</td>\n",
       "      <td>4</td>\n",
       "      <td>2</td>\n",
       "      <td>1</td>\n",
       "      <td>5</td>\n",
       "      <td>-1689</td>\n",
       "      <td>0</td>\n",
       "      <td>0</td>\n",
       "      <td>0</td>\n",
       "      <td>15.0</td>\n",
       "      <td>3</td>\n",
       "      <td>2.0</td>\n",
       "    </tr>\n",
       "    <tr>\n",
       "      <th>10731</th>\n",
       "      <td>10731</td>\n",
       "      <td>0</td>\n",
       "      <td>0</td>\n",
       "      <td>1</td>\n",
       "      <td>0</td>\n",
       "      <td>4</td>\n",
       "      <td>4</td>\n",
       "      <td>3</td>\n",
       "      <td>1</td>\n",
       "      <td>2</td>\n",
       "      <td>-1853</td>\n",
       "      <td>1</td>\n",
       "      <td>1</td>\n",
       "      <td>0</td>\n",
       "      <td>20.0</td>\n",
       "      <td>0</td>\n",
       "      <td>2.0</td>\n",
       "    </tr>\n",
       "    <tr>\n",
       "      <th>25313</th>\n",
       "      <td>25313</td>\n",
       "      <td>0</td>\n",
       "      <td>0</td>\n",
       "      <td>0</td>\n",
       "      <td>0</td>\n",
       "      <td>4</td>\n",
       "      <td>4</td>\n",
       "      <td>1</td>\n",
       "      <td>1</td>\n",
       "      <td>3</td>\n",
       "      <td>-1649</td>\n",
       "      <td>1</td>\n",
       "      <td>1</td>\n",
       "      <td>0</td>\n",
       "      <td>9.0</td>\n",
       "      <td>1</td>\n",
       "      <td>2.0</td>\n",
       "    </tr>\n",
       "    <tr>\n",
       "      <th>25390</th>\n",
       "      <td>25390</td>\n",
       "      <td>1</td>\n",
       "      <td>1</td>\n",
       "      <td>1</td>\n",
       "      <td>0</td>\n",
       "      <td>4</td>\n",
       "      <td>4</td>\n",
       "      <td>2</td>\n",
       "      <td>1</td>\n",
       "      <td>5</td>\n",
       "      <td>-1689</td>\n",
       "      <td>0</td>\n",
       "      <td>0</td>\n",
       "      <td>0</td>\n",
       "      <td>15.0</td>\n",
       "      <td>2</td>\n",
       "      <td>2.0</td>\n",
       "    </tr>\n",
       "    <tr>\n",
       "      <th>25638</th>\n",
       "      <td>25638</td>\n",
       "      <td>0</td>\n",
       "      <td>0</td>\n",
       "      <td>0</td>\n",
       "      <td>0</td>\n",
       "      <td>4</td>\n",
       "      <td>4</td>\n",
       "      <td>1</td>\n",
       "      <td>1</td>\n",
       "      <td>3</td>\n",
       "      <td>-1649</td>\n",
       "      <td>1</td>\n",
       "      <td>1</td>\n",
       "      <td>0</td>\n",
       "      <td>9.0</td>\n",
       "      <td>2</td>\n",
       "      <td>2.0</td>\n",
       "    </tr>\n",
       "  </tbody>\n",
       "</table>\n",
       "</div>"
      ],
      "text/plain": [
       "       index  gender  car  reality  income_total  income_type  edu_type  \\\n",
       "8462    8462       1    1        1             0            4         4   \n",
       "9021    9021       1    1        1             0            4         4   \n",
       "10731  10731       0    0        1             0            4         4   \n",
       "25313  25313       0    0        0             0            4         4   \n",
       "25390  25390       1    1        1             0            4         4   \n",
       "25638  25638       0    0        0             0            4         4   \n",
       "\n",
       "       family_type  house_type  DAYS_BIRTH  DAYS_EMPLOYED  work_phone  phone  \\\n",
       "8462             2           1           5          -1689           0      0   \n",
       "9021             2           1           5          -1689           0      0   \n",
       "10731            3           1           2          -1853           1      1   \n",
       "25313            1           1           3          -1649           1      1   \n",
       "25390            2           1           5          -1689           0      0   \n",
       "25638            1           1           3          -1649           1      1   \n",
       "\n",
       "       email  family_size  begin_month  credit  \n",
       "8462       0         15.0            0     2.0  \n",
       "9021       0         15.0            3     2.0  \n",
       "10731      0         20.0            0     2.0  \n",
       "25313      0          9.0            1     2.0  \n",
       "25390      0         15.0            2     2.0  \n",
       "25638      0          9.0            2     2.0  "
      ]
     },
     "execution_count": 53,
     "metadata": {},
     "output_type": "execute_result"
    }
   ],
   "source": [
    "data.loc[data[\"family_size\"]>=9]"
   ]
  },
  {
   "cell_type": "markdown",
   "id": "willing-galaxy",
   "metadata": {},
   "source": [
    "family_size가 9이상이면 test에는 아예 있지도 않음. credit도 죄다 2. 그냥 제거하는 게 좋지 않을까..."
   ]
  },
  {
   "cell_type": "code",
   "execution_count": 59,
   "id": "circular-southeast",
   "metadata": {},
   "outputs": [
    {
     "data": {
      "text/plain": [
       "(36449, 17)"
      ]
     },
     "execution_count": 59,
     "metadata": {},
     "output_type": "execute_result"
    }
   ],
   "source": [
    "ind=data.loc[data[\"family_size\"]>=9].index\n",
    "data=data.drop(ind)\n",
    "data.shape"
   ]
  },
  {
   "cell_type": "code",
   "execution_count": null,
   "id": "underlying-madness",
   "metadata": {},
   "outputs": [],
   "source": []
  },
  {
   "cell_type": "code",
   "execution_count": null,
   "id": "clear-arbor",
   "metadata": {},
   "outputs": [],
   "source": []
  },
  {
   "cell_type": "code",
   "execution_count": null,
   "id": "elementary-detail",
   "metadata": {},
   "outputs": [],
   "source": []
  },
  {
   "cell_type": "code",
   "execution_count": null,
   "id": "funded-entrepreneur",
   "metadata": {},
   "outputs": [],
   "source": []
  },
  {
   "cell_type": "code",
   "execution_count": null,
   "id": "tracked-diagnosis",
   "metadata": {},
   "outputs": [],
   "source": []
  },
  {
   "cell_type": "code",
   "execution_count": null,
   "id": "alive-clinton",
   "metadata": {},
   "outputs": [],
   "source": []
  },
  {
   "cell_type": "code",
   "execution_count": null,
   "id": "mounted-palestine",
   "metadata": {},
   "outputs": [],
   "source": []
  },
  {
   "cell_type": "markdown",
   "id": "spare-hawaiian",
   "metadata": {},
   "source": [
    "### 인덱스 제거"
   ]
  },
  {
   "cell_type": "code",
   "execution_count": 107,
   "id": "lucky-compiler",
   "metadata": {},
   "outputs": [
    {
     "data": {
      "text/html": [
       "<div>\n",
       "<style scoped>\n",
       "    .dataframe tbody tr th:only-of-type {\n",
       "        vertical-align: middle;\n",
       "    }\n",
       "\n",
       "    .dataframe tbody tr th {\n",
       "        vertical-align: top;\n",
       "    }\n",
       "\n",
       "    .dataframe thead th {\n",
       "        text-align: right;\n",
       "    }\n",
       "</style>\n",
       "<table border=\"1\" class=\"dataframe\">\n",
       "  <thead>\n",
       "    <tr style=\"text-align: right;\">\n",
       "      <th></th>\n",
       "      <th>index</th>\n",
       "      <th>gender</th>\n",
       "      <th>car</th>\n",
       "      <th>reality</th>\n",
       "      <th>income_total</th>\n",
       "      <th>income_type</th>\n",
       "      <th>edu_type</th>\n",
       "      <th>family_type</th>\n",
       "      <th>house_type</th>\n",
       "      <th>DAYS_BIRTH</th>\n",
       "      <th>DAYS_EMPLOYED</th>\n",
       "      <th>work_phone</th>\n",
       "      <th>phone</th>\n",
       "      <th>email</th>\n",
       "      <th>family_size</th>\n",
       "      <th>begin_month</th>\n",
       "      <th>credit</th>\n",
       "    </tr>\n",
       "  </thead>\n",
       "  <tbody>\n",
       "    <tr>\n",
       "      <th>9995</th>\n",
       "      <td>36452</td>\n",
       "      <td>0</td>\n",
       "      <td>1</td>\n",
       "      <td>1</td>\n",
       "      <td>0</td>\n",
       "      <td>4</td>\n",
       "      <td>2</td>\n",
       "      <td>1</td>\n",
       "      <td>1</td>\n",
       "      <td>6</td>\n",
       "      <td>-5434</td>\n",
       "      <td>1</td>\n",
       "      <td>1</td>\n",
       "      <td>0</td>\n",
       "      <td>2.0</td>\n",
       "      <td>1</td>\n",
       "      <td>NaN</td>\n",
       "    </tr>\n",
       "    <tr>\n",
       "      <th>9996</th>\n",
       "      <td>36453</td>\n",
       "      <td>1</td>\n",
       "      <td>1</td>\n",
       "      <td>1</td>\n",
       "      <td>0</td>\n",
       "      <td>4</td>\n",
       "      <td>4</td>\n",
       "      <td>0</td>\n",
       "      <td>1</td>\n",
       "      <td>1</td>\n",
       "      <td>-1315</td>\n",
       "      <td>1</td>\n",
       "      <td>0</td>\n",
       "      <td>0</td>\n",
       "      <td>2.0</td>\n",
       "      <td>2</td>\n",
       "      <td>NaN</td>\n",
       "    </tr>\n",
       "    <tr>\n",
       "      <th>9997</th>\n",
       "      <td>36454</td>\n",
       "      <td>0</td>\n",
       "      <td>0</td>\n",
       "      <td>1</td>\n",
       "      <td>1</td>\n",
       "      <td>4</td>\n",
       "      <td>4</td>\n",
       "      <td>1</td>\n",
       "      <td>1</td>\n",
       "      <td>7</td>\n",
       "      <td>-14018</td>\n",
       "      <td>0</td>\n",
       "      <td>0</td>\n",
       "      <td>0</td>\n",
       "      <td>2.0</td>\n",
       "      <td>3</td>\n",
       "      <td>NaN</td>\n",
       "    </tr>\n",
       "    <tr>\n",
       "      <th>9998</th>\n",
       "      <td>36455</td>\n",
       "      <td>0</td>\n",
       "      <td>1</td>\n",
       "      <td>0</td>\n",
       "      <td>0</td>\n",
       "      <td>0</td>\n",
       "      <td>4</td>\n",
       "      <td>1</td>\n",
       "      <td>1</td>\n",
       "      <td>5</td>\n",
       "      <td>-1085</td>\n",
       "      <td>0</td>\n",
       "      <td>1</td>\n",
       "      <td>0</td>\n",
       "      <td>2.0</td>\n",
       "      <td>2</td>\n",
       "      <td>NaN</td>\n",
       "    </tr>\n",
       "    <tr>\n",
       "      <th>9999</th>\n",
       "      <td>36456</td>\n",
       "      <td>0</td>\n",
       "      <td>0</td>\n",
       "      <td>1</td>\n",
       "      <td>1</td>\n",
       "      <td>4</td>\n",
       "      <td>1</td>\n",
       "      <td>1</td>\n",
       "      <td>1</td>\n",
       "      <td>0</td>\n",
       "      <td>-187</td>\n",
       "      <td>0</td>\n",
       "      <td>0</td>\n",
       "      <td>1</td>\n",
       "      <td>2.0</td>\n",
       "      <td>0</td>\n",
       "      <td>NaN</td>\n",
       "    </tr>\n",
       "  </tbody>\n",
       "</table>\n",
       "</div>"
      ],
      "text/plain": [
       "      index  gender  car  reality  income_total  income_type  edu_type  \\\n",
       "9995  36452       0    1        1             0            4         2   \n",
       "9996  36453       1    1        1             0            4         4   \n",
       "9997  36454       0    0        1             1            4         4   \n",
       "9998  36455       0    1        0             0            0         4   \n",
       "9999  36456       0    0        1             1            4         1   \n",
       "\n",
       "      family_type  house_type  DAYS_BIRTH  DAYS_EMPLOYED  work_phone  phone  \\\n",
       "9995            1           1           6          -5434           1      1   \n",
       "9996            0           1           1          -1315           1      0   \n",
       "9997            1           1           7         -14018           0      0   \n",
       "9998            1           1           5          -1085           0      1   \n",
       "9999            1           1           0           -187           0      0   \n",
       "\n",
       "      email  family_size  begin_month  credit  \n",
       "9995      0          2.0            1     NaN  \n",
       "9996      0          2.0            2     NaN  \n",
       "9997      0          2.0            3     NaN  \n",
       "9998      0          2.0            2     NaN  \n",
       "9999      1          2.0            0     NaN  "
      ]
     },
     "execution_count": 107,
     "metadata": {},
     "output_type": "execute_result"
    }
   ],
   "source": [
    "data.tail()"
   ]
  },
  {
   "cell_type": "code",
   "execution_count": 193,
   "id": "organized-andrew",
   "metadata": {},
   "outputs": [],
   "source": [
    "data.drop(\"index\",axis=1,inplace=True)"
   ]
  },
  {
   "cell_type": "code",
   "execution_count": 194,
   "id": "lucky-tragedy",
   "metadata": {},
   "outputs": [
    {
     "data": {
      "text/html": [
       "<div>\n",
       "<style scoped>\n",
       "    .dataframe tbody tr th:only-of-type {\n",
       "        vertical-align: middle;\n",
       "    }\n",
       "\n",
       "    .dataframe tbody tr th {\n",
       "        vertical-align: top;\n",
       "    }\n",
       "\n",
       "    .dataframe thead th {\n",
       "        text-align: right;\n",
       "    }\n",
       "</style>\n",
       "<table border=\"1\" class=\"dataframe\">\n",
       "  <thead>\n",
       "    <tr style=\"text-align: right;\">\n",
       "      <th></th>\n",
       "      <th>gender</th>\n",
       "      <th>car</th>\n",
       "      <th>reality</th>\n",
       "      <th>child_num</th>\n",
       "      <th>income_total</th>\n",
       "      <th>income_type</th>\n",
       "      <th>edu_type</th>\n",
       "      <th>family_type</th>\n",
       "      <th>house_type</th>\n",
       "      <th>DAYS_BIRTH</th>\n",
       "      <th>...</th>\n",
       "      <th>family_size</th>\n",
       "      <th>begin_month</th>\n",
       "      <th>credit</th>\n",
       "      <th>Realty agents</th>\n",
       "      <th>Secretaries</th>\n",
       "      <th>HR staff</th>\n",
       "      <th>IT staff</th>\n",
       "      <th>Low-skill Laborers</th>\n",
       "      <th>Waiters/barmen staff</th>\n",
       "      <th>No job</th>\n",
       "    </tr>\n",
       "    <tr>\n",
       "      <th>level_0</th>\n",
       "      <th></th>\n",
       "      <th></th>\n",
       "      <th></th>\n",
       "      <th></th>\n",
       "      <th></th>\n",
       "      <th></th>\n",
       "      <th></th>\n",
       "      <th></th>\n",
       "      <th></th>\n",
       "      <th></th>\n",
       "      <th></th>\n",
       "      <th></th>\n",
       "      <th></th>\n",
       "      <th></th>\n",
       "      <th></th>\n",
       "      <th></th>\n",
       "      <th></th>\n",
       "      <th></th>\n",
       "      <th></th>\n",
       "      <th></th>\n",
       "      <th></th>\n",
       "    </tr>\n",
       "  </thead>\n",
       "  <tbody>\n",
       "    <tr>\n",
       "      <th>9995</th>\n",
       "      <td>0</td>\n",
       "      <td>1</td>\n",
       "      <td>1</td>\n",
       "      <td>0</td>\n",
       "      <td>0</td>\n",
       "      <td>4</td>\n",
       "      <td>2</td>\n",
       "      <td>1</td>\n",
       "      <td>1</td>\n",
       "      <td>6</td>\n",
       "      <td>...</td>\n",
       "      <td>2.0</td>\n",
       "      <td>1</td>\n",
       "      <td>NaN</td>\n",
       "      <td>0</td>\n",
       "      <td>0</td>\n",
       "      <td>0</td>\n",
       "      <td>0</td>\n",
       "      <td>0</td>\n",
       "      <td>0</td>\n",
       "      <td>0</td>\n",
       "    </tr>\n",
       "    <tr>\n",
       "      <th>9996</th>\n",
       "      <td>1</td>\n",
       "      <td>1</td>\n",
       "      <td>1</td>\n",
       "      <td>0</td>\n",
       "      <td>0</td>\n",
       "      <td>4</td>\n",
       "      <td>4</td>\n",
       "      <td>0</td>\n",
       "      <td>1</td>\n",
       "      <td>1</td>\n",
       "      <td>...</td>\n",
       "      <td>2.0</td>\n",
       "      <td>2</td>\n",
       "      <td>NaN</td>\n",
       "      <td>0</td>\n",
       "      <td>0</td>\n",
       "      <td>0</td>\n",
       "      <td>0</td>\n",
       "      <td>0</td>\n",
       "      <td>0</td>\n",
       "      <td>0</td>\n",
       "    </tr>\n",
       "    <tr>\n",
       "      <th>9997</th>\n",
       "      <td>0</td>\n",
       "      <td>0</td>\n",
       "      <td>1</td>\n",
       "      <td>0</td>\n",
       "      <td>1</td>\n",
       "      <td>4</td>\n",
       "      <td>4</td>\n",
       "      <td>1</td>\n",
       "      <td>1</td>\n",
       "      <td>7</td>\n",
       "      <td>...</td>\n",
       "      <td>2.0</td>\n",
       "      <td>3</td>\n",
       "      <td>NaN</td>\n",
       "      <td>0</td>\n",
       "      <td>0</td>\n",
       "      <td>0</td>\n",
       "      <td>0</td>\n",
       "      <td>0</td>\n",
       "      <td>0</td>\n",
       "      <td>0</td>\n",
       "    </tr>\n",
       "    <tr>\n",
       "      <th>9998</th>\n",
       "      <td>0</td>\n",
       "      <td>1</td>\n",
       "      <td>0</td>\n",
       "      <td>0</td>\n",
       "      <td>0</td>\n",
       "      <td>0</td>\n",
       "      <td>4</td>\n",
       "      <td>1</td>\n",
       "      <td>1</td>\n",
       "      <td>5</td>\n",
       "      <td>...</td>\n",
       "      <td>2.0</td>\n",
       "      <td>2</td>\n",
       "      <td>NaN</td>\n",
       "      <td>0</td>\n",
       "      <td>0</td>\n",
       "      <td>0</td>\n",
       "      <td>0</td>\n",
       "      <td>0</td>\n",
       "      <td>0</td>\n",
       "      <td>0</td>\n",
       "    </tr>\n",
       "    <tr>\n",
       "      <th>9999</th>\n",
       "      <td>0</td>\n",
       "      <td>0</td>\n",
       "      <td>1</td>\n",
       "      <td>0</td>\n",
       "      <td>1</td>\n",
       "      <td>4</td>\n",
       "      <td>1</td>\n",
       "      <td>1</td>\n",
       "      <td>1</td>\n",
       "      <td>0</td>\n",
       "      <td>...</td>\n",
       "      <td>2.0</td>\n",
       "      <td>0</td>\n",
       "      <td>NaN</td>\n",
       "      <td>0</td>\n",
       "      <td>0</td>\n",
       "      <td>0</td>\n",
       "      <td>0</td>\n",
       "      <td>0</td>\n",
       "      <td>0</td>\n",
       "      <td>0</td>\n",
       "    </tr>\n",
       "  </tbody>\n",
       "</table>\n",
       "<p>5 rows × 24 columns</p>\n",
       "</div>"
      ],
      "text/plain": [
       "         gender  car  reality  child_num  income_total  income_type  edu_type  \\\n",
       "level_0                                                                         \n",
       "9995          0    1        1          0             0            4         2   \n",
       "9996          1    1        1          0             0            4         4   \n",
       "9997          0    0        1          0             1            4         4   \n",
       "9998          0    1        0          0             0            0         4   \n",
       "9999          0    0        1          0             1            4         1   \n",
       "\n",
       "         family_type  house_type  DAYS_BIRTH  ...  family_size  begin_month  \\\n",
       "level_0                                       ...                             \n",
       "9995               1           1           6  ...          2.0            1   \n",
       "9996               0           1           1  ...          2.0            2   \n",
       "9997               1           1           7  ...          2.0            3   \n",
       "9998               1           1           5  ...          2.0            2   \n",
       "9999               1           1           0  ...          2.0            0   \n",
       "\n",
       "         credit  Realty agents  Secretaries  HR staff  IT staff  \\\n",
       "level_0                                                           \n",
       "9995        NaN              0            0         0         0   \n",
       "9996        NaN              0            0         0         0   \n",
       "9997        NaN              0            0         0         0   \n",
       "9998        NaN              0            0         0         0   \n",
       "9999        NaN              0            0         0         0   \n",
       "\n",
       "         Low-skill Laborers  Waiters/barmen staff  No job  \n",
       "level_0                                                    \n",
       "9995                      0                     0       0  \n",
       "9996                      0                     0       0  \n",
       "9997                      0                     0       0  \n",
       "9998                      0                     0       0  \n",
       "9999                      0                     0       0  \n",
       "\n",
       "[5 rows x 24 columns]"
      ]
     },
     "execution_count": 194,
     "metadata": {},
     "output_type": "execute_result"
    }
   ],
   "source": [
    "data.tail()"
   ]
  },
  {
   "cell_type": "code",
   "execution_count": null,
   "id": "religious-feature",
   "metadata": {},
   "outputs": [],
   "source": []
  },
  {
   "cell_type": "markdown",
   "id": "increasing-birthday",
   "metadata": {},
   "source": [
    "# 데이터 모델링"
   ]
  },
  {
   "cell_type": "code",
   "execution_count": 195,
   "id": "stunning-notebook",
   "metadata": {},
   "outputs": [],
   "source": [
    "train=data[:len(data)-10000]\n",
    "test=data[len(data)-10000:]"
   ]
  },
  {
   "cell_type": "code",
   "execution_count": 196,
   "id": "sorted-arabic",
   "metadata": {},
   "outputs": [],
   "source": [
    "train_x=train.drop('credit', axis=1)\n",
    "train_y=train[['credit']]\n",
    "test_x=test.drop('credit', axis=1)"
   ]
  },
  {
   "cell_type": "code",
   "execution_count": 197,
   "id": "trained-natural",
   "metadata": {},
   "outputs": [
    {
     "name": "stdout",
     "output_type": "stream",
     "text": [
      "Train set: \n",
      "(19842, 23)\n",
      "(19842, 1)\n",
      "===========\n",
      "Validation set: \n",
      "(6615, 23)\n",
      "(6615, 1)\n",
      "log_loss: 1.4736913185286482\n"
     ]
    }
   ],
   "source": [
    "from sklearn.ensemble import RandomForestClassifier\n",
    "from sklearn.metrics import accuracy_score, log_loss\n",
    "from sklearn.metrics import f1_score\n",
    "from tensorflow.keras.utils import to_categorical\n",
    "\n",
    "X_train, X_val, y_train, y_val = train_test_split(train_x, train_y, \n",
    "                                                    stratify=train_y, test_size=0.25,\n",
    "                                                    random_state = 10086)\n",
    "\n",
    "print(\"Train set: \")\n",
    "print(X_train.shape)\n",
    "print(y_train.shape)\n",
    "print(\"===========\")\n",
    "print(\"Validation set: \")\n",
    "print(X_val.shape)\n",
    "print(y_val.shape)\n",
    "\n",
    "\n",
    "clf=RandomForestClassifier()\n",
    "clf.fit(X_train, y_train)\n",
    "y_pred=clf.predict_proba(X_val)\n",
    "\n",
    "print(f\"log_loss: {log_loss(to_categorical(y_val['credit']), y_pred)}\")"
   ]
  },
  {
   "cell_type": "code",
   "execution_count": 198,
   "id": "northern-assumption",
   "metadata": {},
   "outputs": [
    {
     "name": "stdout",
     "output_type": "stream",
     "text": [
      "FOLD 0 : logloss:1.5142101909644876\n",
      "FOLD 1 : logloss:1.5796326024992433\n",
      "FOLD 2 : logloss:1.4241096151297337\n",
      "FOLD 3 : logloss:1.5754220580180494\n",
      "FOLD 4 : logloss:1.496526082186582\n",
      "Mean:1.5179801097596193\n"
     ]
    }
   ],
   "source": [
    "from sklearn.model_selection import KFold, StratifiedKFold\n",
    "\n",
    "def run_kfold(clf):\n",
    "    folds=StratifiedKFold(n_splits=5, shuffle=True, random_state=55)\n",
    "    outcomes=[]\n",
    "    sub=np.zeros((test_x.shape[0], 3))  \n",
    "    for n_fold, (train_index, val_index) in enumerate(folds.split(train_x, train_y)):\n",
    "        X_train, X_val = train_x.iloc[train_index], train_x.iloc[val_index]\n",
    "        y_train, y_val = train_y.iloc[train_index], train_y.iloc[val_index]\n",
    "        clf.fit(X_train, y_train)\n",
    "        \n",
    "        predictions=clf.predict_proba(X_val)\n",
    "        logloss=log_loss(to_categorical(y_val['credit']), predictions)\n",
    "        outcomes.append(logloss)\n",
    "        print(f\"FOLD {n_fold} : logloss:{logloss}\")\n",
    "        \n",
    "        sub+=clf.predict_proba(test_x)\n",
    "        \n",
    "        \n",
    "    mean_outcome=np.mean(outcomes)\n",
    "    \n",
    "    print(\"Mean:{}\".format(mean_outcome))\n",
    "    return sub/folds.n_splits\n",
    "\n",
    "my_submission = run_kfold(clf)"
   ]
  },
  {
   "cell_type": "code",
   "execution_count": 199,
   "id": "european-bargain",
   "metadata": {},
   "outputs": [
    {
     "data": {
      "text/plain": [
       "array([[0.03836667, 0.12706667, 0.83456667],\n",
       "       [0.18197619, 0.21575238, 0.60227143],\n",
       "       [0.30214444, 0.04047143, 0.65738413],\n",
       "       ...,\n",
       "       [0.00733333, 0.02393333, 0.96873333],\n",
       "       [0.29727857, 0.59255952, 0.1101619 ],\n",
       "       [0.07317857, 0.63681111, 0.29001032]])"
      ]
     },
     "execution_count": 199,
     "metadata": {},
     "output_type": "execute_result"
    }
   ],
   "source": [
    "my_submission"
   ]
  },
  {
   "cell_type": "code",
   "execution_count": 200,
   "id": "broke-syndicate",
   "metadata": {},
   "outputs": [
    {
     "data": {
      "text/html": [
       "<div>\n",
       "<style scoped>\n",
       "    .dataframe tbody tr th:only-of-type {\n",
       "        vertical-align: middle;\n",
       "    }\n",
       "\n",
       "    .dataframe tbody tr th {\n",
       "        vertical-align: top;\n",
       "    }\n",
       "\n",
       "    .dataframe thead th {\n",
       "        text-align: right;\n",
       "    }\n",
       "</style>\n",
       "<table border=\"1\" class=\"dataframe\">\n",
       "  <thead>\n",
       "    <tr style=\"text-align: right;\">\n",
       "      <th></th>\n",
       "      <th>index</th>\n",
       "      <th>0</th>\n",
       "      <th>1</th>\n",
       "      <th>2</th>\n",
       "    </tr>\n",
       "  </thead>\n",
       "  <tbody>\n",
       "    <tr>\n",
       "      <th>0</th>\n",
       "      <td>26457</td>\n",
       "      <td>0</td>\n",
       "      <td>0</td>\n",
       "      <td>0</td>\n",
       "    </tr>\n",
       "    <tr>\n",
       "      <th>1</th>\n",
       "      <td>26458</td>\n",
       "      <td>0</td>\n",
       "      <td>0</td>\n",
       "      <td>0</td>\n",
       "    </tr>\n",
       "    <tr>\n",
       "      <th>2</th>\n",
       "      <td>26459</td>\n",
       "      <td>0</td>\n",
       "      <td>0</td>\n",
       "      <td>0</td>\n",
       "    </tr>\n",
       "    <tr>\n",
       "      <th>3</th>\n",
       "      <td>26460</td>\n",
       "      <td>0</td>\n",
       "      <td>0</td>\n",
       "      <td>0</td>\n",
       "    </tr>\n",
       "    <tr>\n",
       "      <th>4</th>\n",
       "      <td>26461</td>\n",
       "      <td>0</td>\n",
       "      <td>0</td>\n",
       "      <td>0</td>\n",
       "    </tr>\n",
       "    <tr>\n",
       "      <th>...</th>\n",
       "      <td>...</td>\n",
       "      <td>...</td>\n",
       "      <td>...</td>\n",
       "      <td>...</td>\n",
       "    </tr>\n",
       "    <tr>\n",
       "      <th>9995</th>\n",
       "      <td>36452</td>\n",
       "      <td>0</td>\n",
       "      <td>0</td>\n",
       "      <td>0</td>\n",
       "    </tr>\n",
       "    <tr>\n",
       "      <th>9996</th>\n",
       "      <td>36453</td>\n",
       "      <td>0</td>\n",
       "      <td>0</td>\n",
       "      <td>0</td>\n",
       "    </tr>\n",
       "    <tr>\n",
       "      <th>9997</th>\n",
       "      <td>36454</td>\n",
       "      <td>0</td>\n",
       "      <td>0</td>\n",
       "      <td>0</td>\n",
       "    </tr>\n",
       "    <tr>\n",
       "      <th>9998</th>\n",
       "      <td>36455</td>\n",
       "      <td>0</td>\n",
       "      <td>0</td>\n",
       "      <td>0</td>\n",
       "    </tr>\n",
       "    <tr>\n",
       "      <th>9999</th>\n",
       "      <td>36456</td>\n",
       "      <td>0</td>\n",
       "      <td>0</td>\n",
       "      <td>0</td>\n",
       "    </tr>\n",
       "  </tbody>\n",
       "</table>\n",
       "<p>10000 rows × 4 columns</p>\n",
       "</div>"
      ],
      "text/plain": [
       "      index  0  1  2\n",
       "0     26457  0  0  0\n",
       "1     26458  0  0  0\n",
       "2     26459  0  0  0\n",
       "3     26460  0  0  0\n",
       "4     26461  0  0  0\n",
       "...     ... .. .. ..\n",
       "9995  36452  0  0  0\n",
       "9996  36453  0  0  0\n",
       "9997  36454  0  0  0\n",
       "9998  36455  0  0  0\n",
       "9999  36456  0  0  0\n",
       "\n",
       "[10000 rows x 4 columns]"
      ]
     },
     "execution_count": 200,
     "metadata": {},
     "output_type": "execute_result"
    }
   ],
   "source": [
    "submission"
   ]
  },
  {
   "cell_type": "code",
   "execution_count": 201,
   "id": "worst-snake",
   "metadata": {},
   "outputs": [],
   "source": [
    "submission.loc[:,1:]=my_submission"
   ]
  },
  {
   "cell_type": "code",
   "execution_count": 202,
   "id": "consolidated-interstate",
   "metadata": {},
   "outputs": [
    {
     "data": {
      "text/html": [
       "<div>\n",
       "<style scoped>\n",
       "    .dataframe tbody tr th:only-of-type {\n",
       "        vertical-align: middle;\n",
       "    }\n",
       "\n",
       "    .dataframe tbody tr th {\n",
       "        vertical-align: top;\n",
       "    }\n",
       "\n",
       "    .dataframe thead th {\n",
       "        text-align: right;\n",
       "    }\n",
       "</style>\n",
       "<table border=\"1\" class=\"dataframe\">\n",
       "  <thead>\n",
       "    <tr style=\"text-align: right;\">\n",
       "      <th></th>\n",
       "      <th>index</th>\n",
       "      <th>0</th>\n",
       "      <th>1</th>\n",
       "      <th>2</th>\n",
       "    </tr>\n",
       "  </thead>\n",
       "  <tbody>\n",
       "    <tr>\n",
       "      <th>0</th>\n",
       "      <td>26457</td>\n",
       "      <td>0.038367</td>\n",
       "      <td>0.127067</td>\n",
       "      <td>0.834567</td>\n",
       "    </tr>\n",
       "    <tr>\n",
       "      <th>1</th>\n",
       "      <td>26458</td>\n",
       "      <td>0.181976</td>\n",
       "      <td>0.215752</td>\n",
       "      <td>0.602271</td>\n",
       "    </tr>\n",
       "    <tr>\n",
       "      <th>2</th>\n",
       "      <td>26459</td>\n",
       "      <td>0.302144</td>\n",
       "      <td>0.040471</td>\n",
       "      <td>0.657384</td>\n",
       "    </tr>\n",
       "    <tr>\n",
       "      <th>3</th>\n",
       "      <td>26460</td>\n",
       "      <td>0.174779</td>\n",
       "      <td>0.035500</td>\n",
       "      <td>0.789721</td>\n",
       "    </tr>\n",
       "    <tr>\n",
       "      <th>4</th>\n",
       "      <td>26461</td>\n",
       "      <td>0.024167</td>\n",
       "      <td>0.663667</td>\n",
       "      <td>0.312167</td>\n",
       "    </tr>\n",
       "    <tr>\n",
       "      <th>...</th>\n",
       "      <td>...</td>\n",
       "      <td>...</td>\n",
       "      <td>...</td>\n",
       "      <td>...</td>\n",
       "    </tr>\n",
       "    <tr>\n",
       "      <th>9995</th>\n",
       "      <td>36452</td>\n",
       "      <td>0.091630</td>\n",
       "      <td>0.218151</td>\n",
       "      <td>0.690219</td>\n",
       "    </tr>\n",
       "    <tr>\n",
       "      <th>9996</th>\n",
       "      <td>36453</td>\n",
       "      <td>0.515500</td>\n",
       "      <td>0.105167</td>\n",
       "      <td>0.379333</td>\n",
       "    </tr>\n",
       "    <tr>\n",
       "      <th>9997</th>\n",
       "      <td>36454</td>\n",
       "      <td>0.007333</td>\n",
       "      <td>0.023933</td>\n",
       "      <td>0.968733</td>\n",
       "    </tr>\n",
       "    <tr>\n",
       "      <th>9998</th>\n",
       "      <td>36455</td>\n",
       "      <td>0.297279</td>\n",
       "      <td>0.592560</td>\n",
       "      <td>0.110162</td>\n",
       "    </tr>\n",
       "    <tr>\n",
       "      <th>9999</th>\n",
       "      <td>36456</td>\n",
       "      <td>0.073179</td>\n",
       "      <td>0.636811</td>\n",
       "      <td>0.290010</td>\n",
       "    </tr>\n",
       "  </tbody>\n",
       "</table>\n",
       "<p>10000 rows × 4 columns</p>\n",
       "</div>"
      ],
      "text/plain": [
       "      index         0         1         2\n",
       "0     26457  0.038367  0.127067  0.834567\n",
       "1     26458  0.181976  0.215752  0.602271\n",
       "2     26459  0.302144  0.040471  0.657384\n",
       "3     26460  0.174779  0.035500  0.789721\n",
       "4     26461  0.024167  0.663667  0.312167\n",
       "...     ...       ...       ...       ...\n",
       "9995  36452  0.091630  0.218151  0.690219\n",
       "9996  36453  0.515500  0.105167  0.379333\n",
       "9997  36454  0.007333  0.023933  0.968733\n",
       "9998  36455  0.297279  0.592560  0.110162\n",
       "9999  36456  0.073179  0.636811  0.290010\n",
       "\n",
       "[10000 rows x 4 columns]"
      ]
     },
     "execution_count": 202,
     "metadata": {},
     "output_type": "execute_result"
    }
   ],
   "source": [
    "submission"
   ]
  },
  {
   "cell_type": "code",
   "execution_count": 203,
   "id": "entertaining-chick",
   "metadata": {},
   "outputs": [],
   "source": [
    "submission.to_csv('C:\\\\Users\\\\eunai\\\\Documents\\\\컴퓨터공부\\dacon\\\\baseline_submission_6.csv', index=False)"
   ]
  },
  {
   "cell_type": "code",
   "execution_count": null,
   "id": "electoral-johnson",
   "metadata": {},
   "outputs": [],
   "source": []
  }
 ],
 "metadata": {
  "kernelspec": {
   "display_name": "Python 3",
   "language": "python",
   "name": "python3"
  },
  "language_info": {
   "codemirror_mode": {
    "name": "ipython",
    "version": 3
   },
   "file_extension": ".py",
   "mimetype": "text/x-python",
   "name": "python",
   "nbconvert_exporter": "python",
   "pygments_lexer": "ipython3",
   "version": "3.8.5"
  }
 },
 "nbformat": 4,
 "nbformat_minor": 5
}
